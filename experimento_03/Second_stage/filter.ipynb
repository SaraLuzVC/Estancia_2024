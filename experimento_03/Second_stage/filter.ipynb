{
 "cells": [
  {
   "cell_type": "markdown",
   "id": "ae250b52-2c97-41c5-aa65-da566e5ad93a",
   "metadata": {},
   "source": [
    "# Second Stage\n",
    "filter the events that provide interesting variation"
   ]
  },
  {
   "cell_type": "markdown",
   "id": "7baa7e1e-09db-4df0-b8ac-bee080da1583",
   "metadata": {},
   "source": [
    "## Libraries"
   ]
  },
  {
   "cell_type": "code",
   "execution_count": 24,
   "id": "523ebabe-d4f2-4411-ac15-2109a30a584a",
   "metadata": {},
   "outputs": [],
   "source": [
    "import json\n",
    "import csv\n",
    "import os\n",
    "import statistics"
   ]
  },
  {
   "cell_type": "markdown",
   "id": "0a6bac15-e310-46e7-898a-2f593e700eb6",
   "metadata": {},
   "source": [
    "# Import Matrix and convert to list"
   ]
  },
  {
   "cell_type": "code",
   "execution_count": 25,
   "id": "b0774434-c860-494f-89e9-e895e10fa858",
   "metadata": {},
   "outputs": [
    {
     "data": {
      "text/plain": [
       "[7.333333333333333,\n",
       " 6.0,\n",
       " 2.6666666666666665,\n",
       " 2.0,\n",
       " 3.3333333333333335,\n",
       " 5.0,\n",
       " 2.6666666666666665,\n",
       " 4.666666666666667,\n",
       " 3.3333333333333335,\n",
       " 7.666666666666667,\n",
       " 8.666666666666666,\n",
       " 4.666666666666667]"
      ]
     },
     "execution_count": 25,
     "metadata": {},
     "output_type": "execute_result"
    }
   ],
   "source": [
    "# Load assessments from CSV file\n",
    "EVENTS_ASSESSMENT = []\n",
    "\n",
    "# Define file path for events.csv\n",
    "file_path = \"../data/assessment.csv\"\n",
    "\n",
    "# Read the CSV file\n",
    "with open(file_path, \"r\") as f:\n",
    "    reader = csv.reader(f)\n",
    "    for row in reader:\n",
    "        EVENTS_ASSESSMENT.extend(row)  # Extend to flatten the list\n",
    "\n",
    "# Convert EVENTS_ASSESSMENT to floats\n",
    "EVENTS_ASSESSMENT = [float(item) for item in EVENTS_ASSESSMENT]\n",
    "\n",
    "# Convert EVENTS to a list (if needed)\n",
    "EVENTS_ASSESSMENT = list(EVENTS_ASSESSMENT)\n",
    "\n",
    "EVENTS_ASSESSMENT"
   ]
  },
  {
   "cell_type": "code",
   "execution_count": 26,
   "id": "47d5deb4-1974-4856-b9e2-af9ff063e87e",
   "metadata": {},
   "outputs": [
    {
     "data": {
      "text/plain": [
       "['Regime01_event01: good small things',\n",
       " 'Regime01_event02: good medium things',\n",
       " 'Regime01_event03: good big things',\n",
       " 'Regime02_event01: neutral small things',\n",
       " 'Regime02_event02: neutral medium things',\n",
       " 'Regime02_event03: neutral big things',\n",
       " 'Regime03_event01: neutral small things',\n",
       " 'Regime03_event02: neutral medium things',\n",
       " 'Regime03_event03: neutral big things',\n",
       " 'Regime04_event01: bad small things',\n",
       " 'Regime04_event02: bad medium things',\n",
       " 'Regime04_event03: Bad big things']"
      ]
     },
     "execution_count": 26,
     "metadata": {},
     "output_type": "execute_result"
    }
   ],
   "source": [
    "# Load events from JSON file\n",
    "EVENTS = []\n",
    "\n",
    "# Define file path for questions.json\n",
    "file_path = \"../data/events.json\"\n",
    "\n",
    "# Read the JSON file\n",
    "with open(file_path, \"r\") as f:\n",
    "    EVENTS = json.load(f)\n",
    "\n",
    "# Convert the matrix to a list\n",
    "EVENTS_list = [item for sublist in EVENTS for item in sublist]\n",
    "\n",
    "EVENTS_list"
   ]
  },
  {
   "cell_type": "markdown",
   "id": "4af877a3-952d-4009-9193-fa6b56bcdd82",
   "metadata": {},
   "source": [
    "# Filter\n",
    "Sara: I chose max, min and median, but this should be a filter that you specify"
   ]
  },
  {
   "cell_type": "code",
   "execution_count": 27,
   "id": "46e7e6b7-4958-4d5a-a52f-fd4ef8cce392",
   "metadata": {},
   "outputs": [
    {
     "data": {
      "text/plain": [
       "['Regime04_event02: bad medium things',\n",
       " 'Regime02_event01: neutral small things',\n",
       " 'Regime03_event02: neutral medium things']"
      ]
     },
     "execution_count": 27,
     "metadata": {},
     "output_type": "execute_result"
    }
   ],
   "source": [
    "# Find the position of the maximum element\n",
    "max_index = EVENTS_ASSESSMENT.index(max(EVENTS_ASSESSMENT))\n",
    "\n",
    "# Find the position of the minimum element\n",
    "min_index = EVENTS_ASSESSMENT.index(min(EVENTS_ASSESSMENT))\n",
    "\n",
    "# Find the median element\n",
    "# If the list has an odd number of elements, the median is the middle element\n",
    "# If the list has an even number of elements, the median is the average of the two middle elements\n",
    "# Using statistics.median for simplicity\n",
    "\n",
    "median_value = statistics.median(EVENTS_ASSESSMENT)\n",
    "\n",
    "# Find the index of the median element\n",
    "# If there are duplicates, find the first occurrence\n",
    "median_index = EVENTS_ASSESSMENT.index(median_value)\n",
    "\n",
    "# Create a list of the maximum, minimum, and median elements\n",
    "events_filtered = [\n",
    "    EVENTS_list[max_index],  # Maximum element\n",
    "    EVENTS_list[min_index],  # Minimum element\n",
    "    EVENTS_list[median_index]  # Median element\n",
    "]\n",
    "\n",
    "events_filtered"
   ]
  },
  {
   "cell_type": "markdown",
   "id": "783183d3-624a-4564-b326-fae912811871",
   "metadata": {},
   "source": [
    "# Saving List"
   ]
  },
  {
   "cell_type": "code",
   "execution_count": 28,
   "id": "79608816-b76b-4558-8a5c-62cc762d0f24",
   "metadata": {},
   "outputs": [
    {
     "name": "stdout",
     "output_type": "stream",
     "text": [
      "Result list successfully saved to ../data/events_filtered.csv\n"
     ]
    }
   ],
   "source": [
    "# Save result_list as a CSV file\n",
    "output_file_path = \"../data/events_filtered.csv\"\n",
    "\n",
    "with open(output_file_path, \"w\", newline='') as csvfile:\n",
    "    writer = csv.writer(csvfile)\n",
    "    writer.writerow(result_list)\n",
    "\n",
    "print(f\"Result list successfully saved to {output_file_path}\")"
   ]
  }
 ],
 "metadata": {
  "kernelspec": {
   "display_name": "Python 3 (ipykernel)",
   "language": "python",
   "name": "python3"
  },
  "language_info": {
   "codemirror_mode": {
    "name": "ipython",
    "version": 3
   },
   "file_extension": ".py",
   "mimetype": "text/x-python",
   "name": "python",
   "nbconvert_exporter": "python",
   "pygments_lexer": "ipython3",
   "version": "3.11.4"
  }
 },
 "nbformat": 4,
 "nbformat_minor": 5
}
