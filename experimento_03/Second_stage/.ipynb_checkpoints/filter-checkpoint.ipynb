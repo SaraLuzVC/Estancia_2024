{
 "cells": [
  {
   "cell_type": "markdown",
   "id": "ae250b52-2c97-41c5-aa65-da566e5ad93a",
   "metadata": {},
   "source": [
    "# Second Stage\n",
    "filter the events that provide interesting variation"
   ]
  },
  {
   "cell_type": "markdown",
   "id": "7baa7e1e-09db-4df0-b8ac-bee080da1583",
   "metadata": {},
   "source": [
    "## Libraries"
   ]
  },
  {
   "cell_type": "code",
   "execution_count": 6,
   "id": "523ebabe-d4f2-4411-ac15-2109a30a584a",
   "metadata": {},
   "outputs": [],
   "source": [
    "import json\n",
    "import csv\n",
    "import os\n",
    "import statistics\n",
    "import random"
   ]
  },
  {
   "cell_type": "markdown",
   "id": "0a6bac15-e310-46e7-898a-2f593e700eb6",
   "metadata": {},
   "source": [
    "# Import Matrix and convert to list"
   ]
  },
  {
   "cell_type": "code",
   "execution_count": 15,
   "id": "b0774434-c860-494f-89e9-e895e10fa858",
   "metadata": {},
   "outputs": [],
   "source": [
    "# Load assessments from CSV file\n",
    "EVENTS_ASSESSMENT = []\n",
    "\n",
    "# Define file path for events.csv\n",
    "file_path = \"../First_stage/data/assessment.csv\"\n",
    "\n",
    "# # Read the CSV file\n",
    "# with open(file_path, \"r\") as f:\n",
    "#     reader = csv.reader(f)\n",
    "#     for row in reader:\n",
    "#         EVENTS_ASSESSMENT.extend(row)  # Extend to flatten the list\n",
    "\n",
    "# # Convert EVENTS_ASSESSMENT to floats\n",
    "# EVENTS_ASSESSMENT = [float(item) for item in EVENTS_ASSESSMENT]\n",
    "\n",
    "# # Convert EVENTS to a list (if needed)\n",
    "# EVENTS_ASSESSMENT = list(EVENTS_ASSESSMENT)\n",
    "\n",
    "# EVENTS_ASSESSMENT"
   ]
  },
  {
   "cell_type": "code",
   "execution_count": 18,
   "id": "1ad42767-6ab9-4ceb-8873-ead9c82640e4",
   "metadata": {},
   "outputs": [
    {
     "data": {
      "text/plain": [
       "[[2.3333333333333335, 3.6666666666666665, 4.0],\n",
       " [3.6666666666666665, 3.0, 2.6666666666666665],\n",
       " [5.666666666666667, 5.666666666666667, 3.0],\n",
       " [7.0, 8.333333333333334, 7.666666666666667],\n",
       " [5.666666666666667, 4.666666666666667, 6.333333333333333]]"
      ]
     },
     "execution_count": 18,
     "metadata": {},
     "output_type": "execute_result"
    }
   ],
   "source": [
    "# Initialize an empty matrix\n",
    "EVENTS_ASSESSMENT = []\n",
    "\n",
    "# Read the matrix from the CSV file\n",
    "with open(file_path, 'r') as file:\n",
    "    reader = csv.reader(file)\n",
    "    for row in reader:\n",
    "        # Convert each row from strings to integers\n",
    "        EVENTS_ASSESSMENT.append([float(element) for element in row])\n",
    "\n",
    "EVENTS_ASSESSMENT"
   ]
  },
  {
   "cell_type": "code",
   "execution_count": 19,
   "id": "47d5deb4-1974-4856-b9e2-af9ff063e87e",
   "metadata": {},
   "outputs": [
    {
     "data": {
      "text/plain": [
       "['Regime01_event01: good small things',\n",
       " 'Regime01_event02: good medium things',\n",
       " 'Regime01_event03: good big things',\n",
       " 'Regime02_event01: neutral-good small things',\n",
       " 'Regime02_event02: neutral-good medium things',\n",
       " 'Regime02_event03: neutral-good big things',\n",
       " 'Regime03_event01: neutral small things',\n",
       " 'Regime03_event02: neutral medium things',\n",
       " 'Regime03_event03: neutral big things',\n",
       " 'Regime04_event01: neutral-bad small things',\n",
       " 'Regime04_event02: neutral-bad medium things',\n",
       " 'Regime04_event03: neutral-bad big things',\n",
       " 'Regime05_event01: bad small things',\n",
       " 'Regime05_event02: bad medium things',\n",
       " 'Regime05_event03: Bad big things']"
      ]
     },
     "execution_count": 19,
     "metadata": {},
     "output_type": "execute_result"
    }
   ],
   "source": [
    "# Load events from JSON file\n",
    "EVENTS = []\n",
    "\n",
    "# Define file path for questions.json\n",
    "file_path = \"../First_stage/data/events.json\"\n",
    "\n",
    "# Read the JSON file\n",
    "with open(file_path, \"r\") as f:\n",
    "    EVENTS = json.load(f)\n",
    "\n",
    "# Convert the matrix to a list\n",
    "EVENTS_list = [item for sublist in EVENTS for item in sublist]\n",
    "\n",
    "EVENTS_list"
   ]
  },
  {
   "cell_type": "markdown",
   "id": "4af877a3-952d-4009-9193-fa6b56bcdd82",
   "metadata": {},
   "source": [
    "# Filter\n",
    "Sara: I chose max, min and median, but this should be a filter that you specify"
   ]
  },
  {
   "cell_type": "code",
   "execution_count": 9,
   "id": "46e7e6b7-4958-4d5a-a52f-fd4ef8cce392",
   "metadata": {},
   "outputs": [],
   "source": [
    "# # Find the position of the maximum element\n",
    "# max_index = EVENTS_ASSESSMENT.index(max(EVENTS_ASSESSMENT))\n",
    "\n",
    "# # Find the position of the minimum element\n",
    "# min_index = EVENTS_ASSESSMENT.index(min(EVENTS_ASSESSMENT))\n",
    "\n",
    "# # Determine the middle indices\n",
    "# n = len(EVENTS_ASSESSMENT)\n",
    "# if n % 2 == 1:\n",
    "#     # Odd number of elements\n",
    "#     median_index = n // 2\n",
    "#     median_indices = [median_index]\n",
    "# else:\n",
    "#     # Even number of elements\n",
    "#     median_index1 = n // 2 - 1\n",
    "#     median_index2 = n // 2\n",
    "#     median_indices = [median_index1, median_index2]\n",
    "\n",
    "# # Create a list of the maximum, minimum, and median elements\n",
    "# events_filtered = [\n",
    "#     EVENTS_list[max_index],  # Maximum element\n",
    "#     EVENTS_list[min_index]   # Minimum element\n",
    "# ] + [EVENTS_list[i] for i in median_indices]  # Median elements\n",
    "\n",
    "# print(events_filtered)"
   ]
  },
  {
   "cell_type": "code",
   "execution_count": 23,
   "id": "4eb1fdd8-d026-4a98-8587-14d6818eb486",
   "metadata": {},
   "outputs": [
    {
     "name": "stdout",
     "output_type": "stream",
     "text": [
      "Random elements from EVENTS_ASSESSMENT: [3.6666666666666665, 3.6666666666666665, 3.0, 7.0, 6.333333333333333]\n",
      "Corresponding elements from EVENTS_JSON: ['Regime01_event02: good medium things', 'Regime02_event01: neutral-good small things', 'Regime03_event03: neutral big things', 'Regime04_event01: neutral-bad small things', 'Regime05_event03: Bad big things']\n"
     ]
    }
   ],
   "source": [
    "# List to store the random elements from EVENTS_ASSESSMENT\n",
    "random_elements_assessment = []\n",
    "\n",
    "# List to store the corresponding elements from EVENTS_JSON\n",
    "corresponding_elements_json = []\n",
    "\n",
    "# Select one random element from each row in EVENTS_ASSESSMENT and the corresponding element from EVENTS_JSON\n",
    "for i, row in enumerate(EVENTS_ASSESSMENT):\n",
    "    index = random.randint(0, len(row) - 1)\n",
    "    random_elements_assessment.append(row[index])\n",
    "    corresponding_elements_json.append(EVENTS[i][index])\n",
    "\n",
    "# Print the lists of selected elements\n",
    "print(\"Random elements from EVENTS_ASSESSMENT:\", random_elements_assessment)\n",
    "print(\"Corresponding elements from EVENTS_JSON:\", corresponding_elements_json)\n",
    "\n",
    "events_filtered = corresponding_elements_json"
   ]
  },
  {
   "cell_type": "markdown",
   "id": "783183d3-624a-4564-b326-fae912811871",
   "metadata": {},
   "source": [
    "# Saving List"
   ]
  },
  {
   "cell_type": "code",
   "execution_count": 24,
   "id": "79608816-b76b-4558-8a5c-62cc762d0f24",
   "metadata": {},
   "outputs": [
    {
     "name": "stdout",
     "output_type": "stream",
     "text": [
      "Result list successfully saved to ../Second_stage/data/events_filtered.csv\n"
     ]
    }
   ],
   "source": [
    "# Save result_list as a CSV file\n",
    "output_file_path = \"../Second_stage/data/events_filtered.csv\"\n",
    "\n",
    "with open(output_file_path, \"w\", newline='') as csvfile:\n",
    "    writer = csv.writer(csvfile)\n",
    "    writer.writerow(events_filtered)\n",
    "\n",
    "print(f\"Result list successfully saved to {output_file_path}\")"
   ]
  },
  {
   "cell_type": "code",
   "execution_count": null,
   "id": "06981cee-0009-49de-8812-2a8ec503f011",
   "metadata": {},
   "outputs": [],
   "source": []
  }
 ],
 "metadata": {
  "kernelspec": {
   "display_name": "Python 3 (ipykernel)",
   "language": "python",
   "name": "python3"
  },
  "language_info": {
   "codemirror_mode": {
    "name": "ipython",
    "version": 3
   },
   "file_extension": ".py",
   "mimetype": "text/x-python",
   "name": "python",
   "nbconvert_exporter": "python",
   "pygments_lexer": "ipython3",
   "version": "3.11.4"
  }
 },
 "nbformat": 4,
 "nbformat_minor": 5
}
