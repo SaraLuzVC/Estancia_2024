{
 "cells": [
  {
   "cell_type": "markdown",
   "id": "2e8b2423-6812-4ac0-8299-46ed1c17d341",
   "metadata": {},
   "source": [
    "# Stage zero:\n",
    "List of *n* regimes, each with *m* events\n",
    "\n",
    "Sara: Una vez que se tenga el código final, salvarlo como script: \"events.py\""
   ]
  },
  {
   "cell_type": "markdown",
   "id": "b08c3ff7-8c12-4b2a-ba01-adf98d9ad573",
   "metadata": {},
   "source": [
    "## Libraries"
   ]
  },
  {
   "cell_type": "code",
   "execution_count": 2,
   "id": "8e705b8f-2ac3-4023-b1a0-23745676b004",
   "metadata": {},
   "outputs": [],
   "source": [
    "import json\n",
    "import csv\n",
    "import os\n",
    "from openai import OpenAI"
   ]
  },
  {
   "cell_type": "markdown",
   "id": "6f6b5cb7-0402-4676-9353-39302d8a77d3",
   "metadata": {},
   "source": [
    "## ChatGPT\n",
    "\n",
    "Sara: Aconsejo mejorar esta etapa después de que Victor tome el curso de NLP de Santiago\n",
    "\n",
    "\n",
    "Coloco un ejemplo"
   ]
  },
  {
   "cell_type": "code",
   "execution_count": 3,
   "id": "2d0f31e5-e3d1-41bd-9f92-f1d7cf1eedcc",
   "metadata": {},
   "outputs": [],
   "source": [
    "# openai_client = OpenAI(\n",
    "#     api_key=os.environ.get(\"OPENAI_API_KEY\"),\n",
    "# )"
   ]
  },
  {
   "cell_type": "code",
   "execution_count": 4,
   "id": "e8749bd5-e505-4310-9625-34d84418bb7f",
   "metadata": {},
   "outputs": [],
   "source": [
    "# chat_completion = openai_client.chat.completions.create(\n",
    "#     max_tokens=128,\n",
    "#     temperature=1,\n",
    "#     messages=[\n",
    "#         {\n",
    "#             \"role\":\"user\",\n",
    "#             \"content\": [\n",
    "#                 {\n",
    "#                     \"type\":\"text\",\n",
    "#                     \"text\":\"Please write a haiku {{ANIMAL}}.  Use JSON format with the keys as 'first_line, second_line, and 'third_line\"\n",
    "#                 }\n",
    "#             ]\n",
    "#         }\n",
    "#     ],\n",
    "#     model=\"gpt-3.5-turbo\",\n",
    "# )\n",
    "\n",
    "# print(chat_completion.choices[0].message.content)"
   ]
  },
  {
   "cell_type": "markdown",
   "id": "6b43b064-12be-4582-9306-9341acbc26e9",
   "metadata": {},
   "source": [
    "## Saving the matrix"
   ]
  },
  {
   "cell_type": "code",
   "execution_count": 5,
   "id": "8c679092-07c9-4b49-b403-5f75fdf36f2d",
   "metadata": {},
   "outputs": [
    {
     "name": "stdout",
     "output_type": "stream",
     "text": [
      "Matrix successfully saved to ../First_stage/data/events.json\n"
     ]
    }
   ],
   "source": [
    "# Define the matrix\n",
    "matrix = [\n",
    "    [\"Regime01_event01: good small things\", \"Regime01_event02: good medium things\", \"Regime01_event03: good big things\"],\n",
    "    [\"Regime02_event01: neutral-good small things\", \"Regime02_event02: neutral-good medium things\", \"Regime02_event03: neutral-good big things\"],\n",
    "    [\"Regime03_event01: neutral small things\", \"Regime03_event02: neutral medium things\", \"Regime03_event03: neutral big things\"],\n",
    "    [\"Regime04_event01: neutral-bad small things\", \"Regime04_event02: neutral-bad medium things\", \"Regime04_event03: neutral-bad big things\"],\n",
    "    [\"Regime05_event01: bad small things\", \"Regime05_event02: bad medium things\", \"Regime05_event03: Bad big things\"]\n",
    "    \n",
    "]\n",
    "\n",
    "# Define the file path\n",
    "file_path = '../First_stage/data/events.json'\n",
    "\n",
    "# Save the matrix to a JSON file\n",
    "with open(file_path, 'w') as f:\n",
    "    json.dump(matrix, f, indent=4)\n",
    "\n",
    "print(f\"Matrix successfully saved to {file_path}\")\n"
   ]
  },
  {
   "cell_type": "code",
   "execution_count": 6,
   "id": "d50144de-cac9-486b-8d23-eae8b4ffbc8b",
   "metadata": {},
   "outputs": [
    {
     "name": "stdout",
     "output_type": "stream",
     "text": [
      "Matrix successfully saved to ../First_stage/data/events.json\n",
      "Matrix successfully saved to ../First_stage/data/events.json\n"
     ]
    }
   ],
   "source": [
    "# Define the matrix\n",
    "matrix = [\n",
    "    [\"Regime01_event01\", \"Regime01_event02\", \"Regime01_event03\"],\n",
    "    [\"Regime02_event01\", \"Regime02_event02\", \"Regime02_event03\"],\n",
    "    [\"Regime03_event01\", \"Regime03_event02\", \"Regime03_event03\"],\n",
    "    [\"Regime04_event01\", \"Regime04_event02\", \"Regime04_event03\"],\n",
    "    [\"Regime05_event01\", \"Regime05_event02\", \"Regime05_event03\"]\n",
    "]\n",
    "\n",
    "# Define the file path for CSV\n",
    "file_path_1 = '../First_stage/data/events.csv'\n",
    "file_path_2 = '../Second_stage/data/events.csv'\n",
    "\n",
    "# Save the matrix to a CSV file\n",
    "with open(file_path_1, 'w', newline='') as f:\n",
    "    writer = csv.writer(f)\n",
    "    writer.writerows(matrix)\n",
    "\n",
    "print(f\"Matrix successfully saved to {file_path}\")\n",
    "\n",
    "# Save the matrix to a CSV file\n",
    "with open(file_path_2, 'w', newline='') as f:\n",
    "    writer = csv.writer(f)\n",
    "    writer.writerows(matrix)\n",
    "\n",
    "print(f\"Matrix successfully saved to {file_path}\")\n"
   ]
  },
  {
   "cell_type": "code",
   "execution_count": null,
   "id": "5e127b39-5246-4b9d-b607-f7bfc3a31261",
   "metadata": {},
   "outputs": [],
   "source": []
  }
 ],
 "metadata": {
  "kernelspec": {
   "display_name": "Python 3 (ipykernel)",
   "language": "python",
   "name": "python3"
  },
  "language_info": {
   "codemirror_mode": {
    "name": "ipython",
    "version": 3
   },
   "file_extension": ".py",
   "mimetype": "text/x-python",
   "name": "python",
   "nbconvert_exporter": "python",
   "pygments_lexer": "ipython3",
   "version": "3.11.4"
  }
 },
 "nbformat": 4,
 "nbformat_minor": 5
}
